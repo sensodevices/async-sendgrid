{
 "cells": [
  {
   "cell_type": "code",
   "execution_count": null,
   "metadata": {},
   "outputs": [],
   "source": [
    "from async_sendgrid import SendgridAPI\n",
    "from sendgrid.helpers.mail import Content, Email, Mail, To\n",
    "import os\n",
    "\n",
    "API_KEY = os.environ['API_KEY']\n",
    "sendgrid = SendgridAPI(API_KEY)"
   ]
  },
  {
   "cell_type": "code",
   "execution_count": null,
   "metadata": {},
   "outputs": [],
   "source": [
    "from_email = Email(\"test@example.com\")\n",
    "to_email = To(\"test@example.com\")\n",
    "subject = \"Lorem ipsum dolor sit amet, consectetur adipiscing elit\"\n",
    "content = Content(\"text/plain\", \"Sed varius ligula ac urna vehicula ultrices. Nunc ut dolor sem.\")\n",
    "\n",
    "mail = Mail(\n",
    "    from_email=from_email,\n",
    "    to_emails=to_email,\n",
    "    subject=subject,\n",
    "    plain_text_content=content\n",
    "    )"
   ]
  },
  {
   "cell_type": "code",
   "execution_count": null,
   "metadata": {},
   "outputs": [],
   "source": [
    "async with sendgrid as client:\n",
    "    response = await client.send(mail)"
   ]
  }
 ],
 "metadata": {
  "language_info": {
   "name": "python"
  },
  "orig_nbformat": 4
 },
 "nbformat": 4,
 "nbformat_minor": 2
}
